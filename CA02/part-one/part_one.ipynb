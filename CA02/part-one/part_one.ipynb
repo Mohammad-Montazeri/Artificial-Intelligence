{
 "cells": [
  {
   "cell_type": "markdown",
   "metadata": {},
   "source": [
    "<h4 style=\"margin-left: 8%;\">  CA02 - <i>An Introduction to Artificial Intelligence</i> - Dr. Fadaei \n",
    "<br>\n",
    "<b> Mohammad Montazeri - 810699269 </b> </h4>\n",
    "\n",
    "<h1 style=\"text-align: center;\"> Hidden Markov Model in Sound Classification </h1>"
   ]
  },
  {
   "cell_type": "markdown",
   "metadata": {},
   "source": [
    "## Abstract\n",
    "A Hidden Markov Model (HMM) is a statistical model that is used to describe a system that changes over time and whose behavior is not directly observable. It is a type of Markov chain where the state is not directly observable, but the output or observation is. The model consists of\n",
    "- a set of states \n",
    "- a set of possible observations\n",
    "- a set of probabilities that describe the likelihood of transitioning between states and \n",
    "- emitting observations.  \n",
    "\n",
    "HMMs are widely used in speech recognition, handwriting recognition, gesture recognition, part-of-speech tagging, musical score following, and bioinformatics.\n",
    "The main objective of this project is to create hidden models for each of the **blues**, **metal**, **hiphop**, and **pop** music groups. In the end, if a music track outside the problem data is given to the program, it can be determined _based on the created models_ that which genre of music it belongs to."
   ]
  },
  {
   "cell_type": "markdown",
   "metadata": {},
   "source": [
    "## Section One: Implementing with Libraries\n",
    "In the first section, we need to design and implement a HMM model using the already-made libraries (hmmlearn). Then, we train the model on the data we have been given and finally evaluate the results with the criteria introduced in the evaluation and analysis section."
   ]
  },
  {
   "cell_type": "markdown",
   "metadata": {},
   "source": [
    "### Initializing\n",
    "Here we define the constant values for our HMM model.\n",
    "We also read all of 400 audio files using the `wavfile` method from *scipy.io* package and then, calculate their MFCC signals using `mfcc` from *python_speech_features* package."
   ]
  },
  {
   "cell_type": "code",
   "execution_count": null,
   "metadata": {},
   "outputs": [],
   "source": [
    "import numpy as np\n",
    "from hmmlearn import hmm\n",
    "from python_speech_features import mfcc\n",
    "from scipy.io import wavfile\n",
    "import matplotlib.pyplot as plt\n",
    "from sklearn.metrics import confusion_matrix, classification_report, ConfusionMatrixDisplay\n",
    "\n",
    "\n",
    "# Define the number of iterations for the training process\n",
    "n_iter = 7\n",
    "\n",
    "# Define the number of musical instances for each genre\n",
    "n_instances = 100\n",
    "\n",
    "# Define the list of genres\n",
    "genres = ['blues', 'hiphop', 'pop', 'metal']\n",
    "\n",
    "# Define the list of filenames\n",
    "filenames = {genre:[] for genre in genres}\n",
    "for genre in genres:\n",
    "    for i in range(n_instances):\n",
    "        if i < 10:\n",
    "            filenames[genre].append(f'data/{genre}/{genre}.0000{i}.wav')\n",
    "        else:\n",
    "            filenames[genre].append(f'data/{genre}/{genre}.000{i}.wav')\n",
    "\n",
    "\n",
    "# Define the list of MFCCs\n",
    "mfccs = {genre:[] for genre in genres}\n",
    "for genre, filename in filenames.items():\n",
    "    for i in range(n_instances):\n",
    "        # Load the audio file\n",
    "        rate, signal = wavfile.read(filename[i])\n",
    "\n",
    "        # Extract the MFCCs\n",
    "        mfcc_feat = mfcc(signal, rate, nfft=1024)\n",
    "\n",
    "        # Append the MFCCs to the list\n",
    "        mfccs[genre].append(mfcc_feat)\n"
   ]
  },
  {
   "cell_type": "markdown",
   "metadata": {},
   "source": [
    "### Training\n",
    "Here, we train our 4 models (one for each genre) based on 80% of the given audio files. Note that we've defined different number of hidden states for different genres based on their complexity. The more complex genres need more hidden states."
   ]
  },
  {
   "cell_type": "code",
   "execution_count": null,
   "metadata": {},
   "outputs": [],
   "source": [
    "# Define the number of hidden states for each genre\n",
    "n_states = {'blues': 4, 'hiphop': 5, 'pop': 6, 'metal': 7}\n",
    "\n",
    "# Define the model for each genre\n",
    "models = {}\n",
    "for genre in genres:\n",
    "    models[genre] = hmm.GaussianHMM(n_components=n_states[genre], n_iter=n_iter)\n",
    "\n",
    "# Train the model for each genre\n",
    "for genre in genres:\n",
    "    data = np.concatenate(mfccs[genre][:n_instances-20])\n",
    "    models[genre].fit(data)\n",
    "\n"
   ]
  },
  {
   "cell_type": "markdown",
   "metadata": {},
   "source": [
    "### Testing\n",
    "Here, we check our algorithm's predictions on the remaining test files\n",
    "(which is 20% of the given audio files), and calculate its efficiency. For each instance, it prints the predicted genre and in the end, prints the accuracy of the algorithm's estimation. Here is an output of this part:\n",
    "\n",
    "|                                                 |                                                 |\n",
    "| ----------------------------------------------- | ----------------------------------------------- |\n",
    "| ![Alt text](<Screenshot 2023-12-07 225435.png>) | ![Alt text](<Screenshot 2023-12-07 225457.png>) |\n",
    "| ![Alt text](<Screenshot 2023-12-07 225457.png>) | ![Alt text](<Screenshot 2023-12-07 225605.png>) |\n"
   ]
  },
  {
   "cell_type": "code",
   "execution_count": null,
   "metadata": {},
   "outputs": [],
   "source": [
    "labels = {genre:[] for genre in genres}  \n",
    "for genre in genres:\n",
    "    true = 0\n",
    "    print(f'----------- {genre} -----------')\n",
    "    for i in range(n_instances-20, n_instances):\n",
    "        print(i, end='\\t')\n",
    "        test = mfccs[genre][i]\n",
    "        B = models['blues'].score(test)\n",
    "        H = models['hiphop'].score(test)\n",
    "        P = models['pop'].score(test)\n",
    "        M = models['metal'].score(test)\n",
    "        prediction = max(B, H, P, M)\n",
    "\n",
    "        if prediction == B:\n",
    "            print('predicted genre is Blues')\n",
    "            labels[genre].append('blues')\n",
    "            true = true+1 if genre == 'blues' else true\n",
    "        elif prediction == H:\n",
    "            print('predicted genre is Hiphop')\n",
    "            labels[genre].append('hiphop')\n",
    "            true = true+1 if genre == 'hiphop' else true\n",
    "        elif prediction == P:\n",
    "            print('predicted genre is Pop')\n",
    "            labels[genre].append('pop')\n",
    "            true = true+1 if genre == 'pop' else true\n",
    "        elif prediction == M:\n",
    "            print('predicted genre is Metal')\n",
    "            labels[genre].append('metal')\n",
    "            true = true+1 if genre == 'metal' else true\n",
    "    print(f'This algorithm predicted the genre of unseen {genre} musics with an accuracy of {true/20*100:.1f}% \\n')\n",
    "\n",
    "        \n"
   ]
  },
  {
   "cell_type": "markdown",
   "metadata": {},
   "source": [
    "### Results\n",
    "Here, for better inference, we plot the results obtained in the previous section. That includes the confusion matrix and also different factors for evaluation of machine learning models. We do so by means of `confusion_matrix()` method and `classification_report()` method from *sklearn.metrics* package. We also use *matplotlib.pyplot* to plot the bar graphs. Here is an output of this part:  \n",
    "\n",
    "\n",
    "![Alt text](<Screenshot 2023-12-07 225627.png>)\n",
    "<br>\n",
    "![Alt text](Figure_1.png)\n",
    "\n",
    "\n",
    "\n"
   ]
  },
  {
   "cell_type": "code",
   "execution_count": null,
   "metadata": {},
   "outputs": [],
   "source": [
    "real_lbl = ['blues' for i in range(20)] + ['hiphop' for i in range(20)] + ['pop' for i in range(20)] + ['metal' for i in range(20)]\n",
    "predicted_lbl = labels['blues'] + labels['hiphop'] + labels['pop'] + labels['metal']\n",
    "\n",
    "\n",
    "cm = confusion_matrix(real_lbl, predicted_lbl, normalize='true')\n",
    "print(cm, end='\\n\\n')\n",
    "print(classification_report(real_lbl, predicted_lbl, target_names=genres))\n",
    "\n",
    "# Plot the confusion matrix\n",
    "disp = ConfusionMatrixDisplay(confusion_matrix=cm, display_labels=['blues', 'hiphop', 'metal', 'pop'])\n",
    "disp.plot(cmap='BuGn')\n",
    "plt.show()"
   ]
  },
  {
   "cell_type": "markdown",
   "metadata": {},
   "source": [
    "### Heatmap\n",
    "Here, we plot the heatmap of one instance for each of the 4 given musical genres. For this matter, we've chosen the 10th index of each genre and plotted its bar graph using *matplotlib.pyplot*'s `imshow()` method. Here is the result:  \n",
    "\n",
    "![Alt text](heatmap-1.png)"
   ]
  },
  {
   "cell_type": "code",
   "execution_count": null,
   "metadata": {},
   "outputs": [],
   "source": [
    "fig, ax = plt.subplots(4, 1, sharex=True, figsize=(9,27))\n",
    "t_min, t_max = 0, 30\n",
    "y_min, y_max = 0, 13\n",
    "\n",
    "for i,genre in enumerate(genres):\n",
    "    data = mfccs[genre][9]\n",
    "    data = np.swapaxes(data, 0, 1)\n",
    "    ax[i].imshow(data, interpolation='nearest', origin='lower', extent=[t_min, t_max, y_min, y_max])\n",
    "    ax[i].set_title(genre.upper())\n",
    "    ax[i].set_xlabel('Time (s)')\n",
    "    ax[i].set_ylabel('MFCC Coefficients')\n",
    "\n",
    "# Set the horizontal space between subplots\n",
    "fig.subplots_adjust(top=0.7)\n",
    "\n",
    "plt.show()\n",
    "    "
   ]
  },
  {
   "cell_type": "markdown",
   "metadata": {},
   "source": [
    "<h4 style=\"color:grey; margin-left:8%;\">by: <br> Mohammad Montazeri\n",
    "<br>\n",
    "810699269 </h4>"
   ]
  }
 ],
 "metadata": {
  "kernelspec": {
   "display_name": "venv",
   "language": "python",
   "name": "python3"
  },
  "language_info": {
   "codemirror_mode": {
    "name": "ipython",
    "version": 3
   },
   "file_extension": ".py",
   "mimetype": "text/x-python",
   "name": "python",
   "nbconvert_exporter": "python",
   "pygments_lexer": "ipython3",
   "version": "3.11.1"
  }
 },
 "nbformat": 4,
 "nbformat_minor": 2
}
