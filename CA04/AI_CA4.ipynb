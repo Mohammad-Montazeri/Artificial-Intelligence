{
  "cells": [
    {
      "cell_type": "markdown",
      "metadata": {},
      "source": [
        "<div style=\"background-color:#FFFDD0; border-radius:18px; padding:15px; \">\n",
        "<h4 style=\"margin-left: 8%; color:#000130; \"> CA03  -  <i>Artificial Intelligence Course</i>  -      Dr. Fadaei \n",
        "<br>\n",
        "<b> Mohammad Montazeri - 810699269 </b> - Fall 1402 </h4>\n",
        "\n",
        "<h1 style=\"text-align: center; color:#000130; \"> Reinforcement Learning </h1>\n",
        "<br>\n",
        "</div>\n"
      ]
    },
    {
      "cell_type": "markdown",
      "metadata": {
        "id": "ksnYjMyNPAcn"
      },
      "source": [
        "# Table of Contents\n",
        "* [Part 1: Value Iteration & Policy Iteration Algorithms](#1)\n",
        "    - [َQuestion 1:](#1-0)\n",
        "    - [َQuestion 2:](#1-1)\n",
        "    - [َQuestion 3:](#1-12)\n",
        "    - [َQuestion 4:](#1-2)\n",
        "    - [َQuestion 5:](#1-3)\n",
        "        - [Value Iteration](#1-3-1)\n",
        "        - [Policy Iteration](#1-3-2)\n",
        "    - [َQuestion 6:](#1-4)\n",
        "        - [Value Iteration](#1-4-1)\n",
        "        - [Policy Iteration](#1-4-2)\n",
        "* [Part 2: Q-Learning Algorithm](#2)\n",
        "    - [َQuestion 7:](#2-0)\n",
        "    - [َQuestion 8:](#2-1)\n",
        "    - [َQuestion 9:](#2-2)\n",
        "    - [َQuestion 10:](#2-3)\n"
      ]
    },
    {
      "cell_type": "markdown",
      "metadata": {},
      "source": [
        "## Libraries\n"
      ]
    },
    {
      "cell_type": "code",
      "execution_count": 1,
      "metadata": {
        "colab": {
          "base_uri": "https://localhost:8080/"
        },
        "id": "dpTWKluXMHP5",
        "outputId": "c8bc002c-6d33-4cd8-84af-44a41dc57bd1"
      },
      "outputs": [],
      "source": [
        "import matplotlib.pyplot as plt\n",
        "import numpy as np\n",
        "import time\n",
        "import gym"
      ]
    },
    {
      "cell_type": "markdown",
      "metadata": {
        "id": "EifP8FUKLXE7"
      },
      "source": [
        "<a name='1'></a>\n",
        "\n",
        "## Part 1: Value Iteration & Policy Iteration Algorithms\n"
      ]
    },
    {
      "cell_type": "code",
      "execution_count": 2,
      "metadata": {
        "id": "8LizJeOYRMEq"
      },
      "outputs": [
        {
          "name": "stdout",
          "output_type": "stream",
          "text": [
            "you can see the environment in each step by render command\n",
            "16\n",
            "4\n"
          ]
        }
      ],
      "source": [
        "# Defining the hyperparameters of the problem\n",
        "axes_states = 4\n",
        "total_states = axes_states * axes_states\n",
        "discount_factor = 0.9\n",
        "iterations = 100\n",
        "action_symbols = [\"←\", \"↓\", \"→\", \"↑\"]\n",
        "action_space = {0: \"LEFT\", 1: \"DOWN\", 2: \"RIGHT\", 3: \"UP\"}\n",
        "\n",
        "# Introducing the environment of the problem\n",
        "env = gym.make(\"FrozenLake-v1\", desc=None, map_name=\"4x4\",\n",
        "               is_slippery=False, new_step_api=True)\n",
        "\n",
        "# Getting familiar with the environment\n",
        "print(\"you can see the environment in each step by render command\")\n",
        "initial_state = env.reset()\n",
        "# env.render()\n",
        "\n",
        "# Total no. of states\n",
        "print(env.observation_space.n)\n",
        "\n",
        "# Total no. of actions\n",
        "print(env.action_space.n)"
      ]
    },
    {
      "cell_type": "markdown",
      "metadata": {
        "id": "iVJmGmCUnIGR"
      },
      "source": [
        "<a name='1-0'></a>\n",
        "\n",
        "### Question 1:\n"
      ]
    },
    {
      "cell_type": "markdown",
      "metadata": {
        "id": "xRDhQMwwnK2s"
      },
      "source": [
        "### Value Iteration Method\n",
        "\n",
        "The Value Iteration method is a dynamic programming algorithm applied in Reinforcement Learning (RL) to determine the optimal value function and policy. Through iterative updates, the algorithm refines the value assigned to each state in the environment until reaching convergence, indicating stabilization where state values exhibit minimal change between iterations.  \n",
        "The procedural steps of the Value Iteration algorithm are outlined as follows:\n",
        "\n",
        "1. Initialize the value of each state to 0.\n",
        "2. For each state, compute the expected return by evaluating all possible actions. This expected return is the sum of the reward and the discounted value of the subsequent state for each potential action, weighted by the probability associated with that action.\n",
        "3. Update the state's value to be the maximum expected return.\n",
        "4. Repeat steps 2 and 3 until the value of each state converges, defined as the maximum difference in value between iterations being less than a predefined small threshold.\n",
        "\n",
        "The Bellman equation serves as the mechanism to update the value of each state. This recursive equation expresses the state's value as the sum of the immediate reward and the discounted value of the next state, weighted by the probability of transitioning to that next state. Here is the equation:\n",
        "$$V(s) = \\max_{a} \\sum_{s', r} p(s', r|s, a)[r + \\gamma V(s')]$$\n",
        "where:\n",
        "\n",
        "* $V(s)$ is the value of state $s$\n",
        "* $a$ is the action taken\n",
        "* $s'$ is the resulting state\n",
        "* $r$ is the reward received\n",
        "* $p(s', r|s, a)$ is the probability of transitioning to state $s'$ and receiving reward $r$ from state $s$ when taking action $a$\n",
        "* $\\gamma$ is the discount factor that trades off immediate versus future rewards\n",
        "\n",
        "### Attaining the Optimal Policy via Value Iteration\n",
        "\n",
        "Upon convergence of the value function, the optimal policy can be derived by selecting the action that maximizes the expected return for each state. This optimal policy serves as a mapping from each state to the action that yields the highest expected return. Consequently, this action represents the one offering the maximum expected reward when commencing from the given state and adhering to the optimal policy thereafter.\n"
      ]
    },
    {
      "cell_type": "markdown",
      "metadata": {
        "id": "MO24LtBGLXZ7"
      },
      "source": [
        "<a name='1-1'></a>\n",
        "\n",
        "### Question 2:\n"
      ]
    },
    {
      "cell_type": "code",
      "execution_count": 3,
      "metadata": {
        "id": "VKP8LjK5jGoW"
      },
      "outputs": [],
      "source": [
        "class ValueIteration:\n",
        "    def __init__(self, env, discount_factor, theta=1e-8):\n",
        "        self.env = env\n",
        "        self.discount_factor = discount_factor\n",
        "        self.theta = theta\n",
        "        self.reset()\n",
        "        self.state_values = (\n",
        "            np.ones((self.env.observation_space.n)) / self.env.action_space.n\n",
        "        )\n",
        "        self.q_values = (\n",
        "            np.ones((self.env.observation_space.n, self.env.action_space.n))\n",
        "            / self.env.action_space.n\n",
        "        )\n",
        "        self.state_values[self.env.observation_space.n - 1] = 0\n",
        "        self.q_values[self.env.observation_space.n - 1] = np.zeros(\n",
        "            (self.env.action_space.n)\n",
        "        )\n",
        "\n",
        "    def value_estimation(self):\n",
        "        self.delta = np.inf\n",
        "\n",
        "        while self.delta > self.theta:\n",
        "            self.delta = 0\n",
        "\n",
        "            for state in range(self.env.observation_space.n):\n",
        "                v = self.state_values[state]\n",
        "\n",
        "                for action in range(self.env.action_space.n):\n",
        "                    action_value = 0\n",
        "                    for probability, next_state, reward, done in self.env.P[state][\n",
        "                        action\n",
        "                    ]:\n",
        "                        if done:\n",
        "                            action_value += reward\n",
        "                        else:\n",
        "                            action_value += probability * (\n",
        "                                reward\n",
        "                                + self.discount_factor *\n",
        "                                self.state_values[next_state]\n",
        "                            )\n",
        "\n",
        "                    self.q_values[state, action] = action_value\n",
        "\n",
        "                self.state_values[state] = np.max(self.q_values[state, :])\n",
        "\n",
        "                self.delta = np.max(\n",
        "                    [self.delta, abs(v - self.state_values[state])])\n",
        "\n",
        "    def take_action(self, action):\n",
        "        next_state, reward, done, _ = self.env.step(action)\n",
        "        return next_state, reward, done\n",
        "\n",
        "    def get_optimal_policy(self, state):\n",
        "        return np.argmax(self.q_values[state, :])\n",
        "\n",
        "    def get_state_values(self):\n",
        "        return self.state_values\n",
        "\n",
        "    def get_q_values(self):\n",
        "        return self.q_values\n",
        "\n",
        "    def reset(self):\n",
        "        initial_state = self.env.reset()\n",
        "        return initial_state"
      ]
    },
    {
      "cell_type": "markdown",
      "metadata": {
        "id": "frjc5mR4ncm1"
      },
      "source": [
        "<a name='1-12'></a>\n",
        "\n",
        "### Question 3:\n"
      ]
    },
    {
      "cell_type": "markdown",
      "metadata": {
        "id": "AMJJpf1tnddF"
      },
      "source": [
        "### Policy Iteration Method\n",
        "\n",
        "In RL, a **policy** acts as a strategy dictating the agent's behavior at any given moment, essentially functioning as a mapping from *states* to *actions*. Policy Iteration serves as a crucial algorithm in Reinforcement Learning (RL) aimed at discovering the optimal policy. The Policy Iteration algorithm unfolds in two distinct steps as:\n",
        "\n",
        "1. **Policy Evaluation** which involves assessing the existing policy by computing the expected return (or value function) for each state under the current policy. The expected return for a state is the cumulative sum of rewards obtained by adhering to the policy from that specific state onward. This iterative process continues until the value function converges to its optimal counterpart.\n",
        "2. **Policy Improvement** which causes the current policy undergo an enhancement by selecting a new action for each state, aiming to maximize the expected return. This iterative refinement persists until the policy stabilizes, signifying convergence to the optimal policy. The algorithm's complexity is directly proportional to the number of states, actions, and iterations essential for convergence. The maximum iteration count corresponds to the product of the number of states and actions.\n",
        "\n",
        "### Attaining the Optimal Policy via Policy Iteration\n",
        "\n",
        "The initiation of the Policy Iteration algorithm involves the selection of an arbitrary policy. It subsequently engages in a cyclic process alternating between policy evaluation and policy improvement. In each iteration, the algorithm begins by evaluating the existing policy, determining the expected return for each state. Following this evaluation, it proceeds to enhance the policy by choosing actions that maximize the expected return for each state. This iterative sequence persists until the policy undergoes no further changes. At this juncture, the algorithm concludes that the policy has converged to its optimal state.\n"
      ]
    },
    {
      "cell_type": "markdown",
      "metadata": {
        "id": "V4DcH5yJLXqH"
      },
      "source": [
        "<a name='1-2'></a>\n",
        "\n",
        "### Question 4:\n"
      ]
    },
    {
      "cell_type": "code",
      "execution_count": 4,
      "metadata": {
        "id": "XjSb1lX147hd"
      },
      "outputs": [],
      "source": [
        "class PolicyIteration:\n",
        "    def __init__(self, env, discount_factor, theta=1e-8):\n",
        "        self.env = env\n",
        "        self.discount_factor = discount_factor\n",
        "        self.theta = theta\n",
        "        self.reset()\n",
        "        self.state_values = (\n",
        "            np.ones((self.env.observation_space.n)) / self.env.action_space.n\n",
        "        )\n",
        "        self.q_values = (\n",
        "            np.ones((self.env.observation_space.n, self.env.action_space.n))\n",
        "            / self.env.action_space.n\n",
        "        )\n",
        "        self.state_values[self.env.observation_space.n - 1] = 0\n",
        "        self.q_values[self.env.observation_space.n - 1] = np.zeros(\n",
        "            (self.env.action_space.n)\n",
        "        )\n",
        "        self.policy = np.random.randint(\n",
        "            self.env.action_space.n, size=self.env.observation_space.n\n",
        "        )  # initial policy\n",
        "        self.policy_stable = False\n",
        "\n",
        "    def policy_evaluation(self):\n",
        "        self.delta = np.inf\n",
        "\n",
        "        while self.delta >= self.theta:\n",
        "            self.delta = 0\n",
        "\n",
        "            for state in range(self.env.observation_space.n):\n",
        "                v = self.state_values[state]\n",
        "\n",
        "                new_state_value = 0\n",
        "                for probability, next_state, reward, done in self.env.P[state][\n",
        "                    self.policy[state]\n",
        "                ]:\n",
        "                    new_state_value += probability * (\n",
        "                        reward + self.discount_factor *\n",
        "                        self.state_values[next_state]\n",
        "                    )\n",
        "\n",
        "                self.state_values[state] = new_state_value\n",
        "\n",
        "                self.delta = np.max(\n",
        "                    [self.delta, abs(v - self.state_values[state])])\n",
        "\n",
        "    def policy_improvement(self):\n",
        "        self.policy_stable = True\n",
        "\n",
        "        for state in range(self.env.observation_space.n):\n",
        "            old_policy = self.policy[state]\n",
        "\n",
        "            for action in range(self.env.action_space.n):\n",
        "                action_value = 0\n",
        "\n",
        "                for probability, next_state, reward, done in self.env.P[state][action]:\n",
        "                    action_value += probability * (\n",
        "                        reward + self.discount_factor *\n",
        "                        self.state_values[next_state]\n",
        "                    )\n",
        "\n",
        "                self.q_values[state, action] = action_value\n",
        "\n",
        "            self.policy[state] = np.argmax(self.q_values[state, :])\n",
        "\n",
        "            if old_policy != self.policy[state]:\n",
        "                self.policy_stable = False\n",
        "\n",
        "    def policy_estimation(self):\n",
        "        self.policy_stable = False\n",
        "\n",
        "        while not self.policy_stable:\n",
        "            self.policy_evaluation()\n",
        "            self.policy_improvement()\n",
        "\n",
        "    def take_action(self, action):\n",
        "        next_state, reward, done, _ = self.env.step(action)\n",
        "        return next_state, reward, done\n",
        "\n",
        "    def get_optimal_policy(self, state):\n",
        "        return self.policy[state]\n",
        "\n",
        "    def get_state_values(self):\n",
        "        return self.state_values\n",
        "\n",
        "    def get_q_values(self):\n",
        "        return self.q_values\n",
        "\n",
        "    def reset(self):\n",
        "        initial_state = self.env.reset()\n",
        "        return initial_state"
      ]
    },
    {
      "cell_type": "markdown",
      "metadata": {
        "id": "u4G-kVjmLYj4"
      },
      "source": [
        "<a name='1-3'></a>\n",
        "\n",
        "### Question 5:\n"
      ]
    },
    {
      "cell_type": "code",
      "execution_count": 5,
      "metadata": {},
      "outputs": [],
      "source": [
        "# A function we'll use to show the results of our algorithms as a visual map\n",
        "def visualize(optimalPolicy):\n",
        "    map = ''\n",
        "    for i in range(axes_states):\n",
        "        if i: \n",
        "            map += '\\n'\n",
        "        map += ((4 * axes_states) * '-' + '-\\n| ')\n",
        "        for j in range(axes_states):\n",
        "            act = action_symbols[optimalPolicy[axes_states * i + j]]\n",
        "            map += f'{act} | '\n",
        "    map += ('\\n' + (4 * axes_states) * '-' + '-')\n",
        "    print(map)\n",
        "\n",
        "\n",
        "\n",
        "# A function we'll use to print the results of our algorithms as a table\n",
        "def tabulate(optimalPolicy, decimal=4):\n",
        "    for index, x in enumerate(optimalPolicy):\n",
        "        if (index+1)%axes_states:\n",
        "            print(f'{x:.{decimal}f}', end='\\t')\n",
        "        else:\n",
        "            print(f'{x:.{decimal}f}')\n"
      ]
    },
    {
      "cell_type": "markdown",
      "metadata": {
        "id": "PB651-ZY4vjE"
      },
      "source": [
        "<a name='1-3-1'></a>\n",
        "\n",
        "#### Value Iteration:\n"
      ]
    },
    {
      "cell_type": "code",
      "execution_count": 7,
      "metadata": {
        "id": "RGYLOfYAuKjY"
      },
      "outputs": [
        {
          "name": "stdout",
          "output_type": "stream",
          "text": [
            "V(s):\n",
            "0.5905\t0.6561\t0.7290\t0.6561\n",
            "0.6561\t0.0000\t0.8100\t0.0000\n",
            "0.7290\t0.8100\t0.9000\t0.0000\n",
            "0.0000\t0.9000\t1.0000\t0.0000\n",
            "\n",
            "Q(s, a):\n",
            "0.5314\t0.5905\t0.5905\t0.5314\n",
            "0.5314\t0.0000\t0.6561\t0.5905\n",
            "0.5905\t0.7290\t0.5905\t0.6561\n",
            "0.6561\t0.0000\t0.5905\t0.5905\n",
            "0.5905\t0.6561\t0.0000\t0.5314\n",
            "0.0000\t0.0000\t0.0000\t0.0000\n",
            "0.0000\t0.8100\t0.0000\t0.6561\n",
            "0.0000\t0.0000\t0.0000\t0.0000\n",
            "0.6561\t0.0000\t0.7290\t0.5905\n",
            "0.6561\t0.8100\t0.8100\t0.0000\n",
            "0.7290\t0.9000\t0.0000\t0.7290\n",
            "0.0000\t0.0000\t0.0000\t0.0000\n",
            "0.0000\t0.0000\t0.0000\t0.0000\n",
            "0.0000\t0.8100\t0.9000\t0.7290\n",
            "0.8100\t0.9000\t1.0000\t0.8100\n",
            "0.0000\t0.0000\t0.0000\t0.0000\n",
            "\n",
            "Optimal Policy: (backend representation)\n",
            "1\t2\t1\t0\n",
            "1\t0\t1\t0\n",
            "2\t1\t1\t0\n",
            "0\t2\t2\t0\n",
            "\n",
            "Optimal Policy: (graphical representation)\n",
            "-----------------\n",
            "| ↓ | → | ↓ | ← | \n",
            "-----------------\n",
            "| ↓ | ← | ↓ | ← | \n",
            "-----------------\n",
            "| → | ↓ | ↓ | ← | \n",
            "-----------------\n",
            "| ← | → | → | ← | \n",
            "-----------------\n"
          ]
        }
      ],
      "source": [
        "env = gym.make('FrozenLake-v1', desc=None, map_name=\"4x4\", is_slippery=False, render_mode='ansi', new_step_api=True)\n",
        "value_iteration = ValueIteration(env, discount_factor)\n",
        "value_iteration.value_estimation()\n",
        "\n",
        "V_s = value_iteration.get_state_values()\n",
        "print('V(s):')\n",
        "tabulate(V_s)\n",
        "print()\n",
        "\n",
        "Q_sa = value_iteration.get_q_values()\n",
        "print('Q(s, a):')\n",
        "for data in Q_sa: tabulate(data)\n",
        "print()\n",
        "\n",
        "PI_star = [value_iteration.get_optimal_policy(x) for x in range(total_states)]\n",
        "print('Optimal Policy: (backend representation)')\n",
        "tabulate(PI_star, 0)\n",
        "print()\n",
        "\n",
        "print('Optimal Policy: (graphical representation)')\n",
        "visualize(PI_star)"
      ]
    },
    {
      "cell_type": "markdown",
      "metadata": {
        "id": "ipZlzoXH40Mn"
      },
      "source": [
        "<a name='1-3-2'></a>\n",
        "\n",
        "#### Policy Iteration:\n"
      ]
    },
    {
      "cell_type": "code",
      "execution_count": 8,
      "metadata": {
        "id": "7Vxf_xKc44QT"
      },
      "outputs": [
        {
          "name": "stdout",
          "output_type": "stream",
          "text": [
            "V(s):\n",
            "0.5905\t0.6561\t0.7290\t0.6561\n",
            "0.6561\t0.0000\t0.8100\t0.0000\n",
            "0.7290\t0.8100\t0.9000\t0.0000\n",
            "0.0000\t0.9000\t1.0000\t0.0000\n",
            "\n",
            "Q(s, a):\n",
            "0.5314\t0.5905\t0.5905\t0.5314\n",
            "0.5314\t0.0000\t0.6561\t0.5905\n",
            "0.5905\t0.7290\t0.5905\t0.6561\n",
            "0.6561\t0.0000\t0.5905\t0.5905\n",
            "0.5905\t0.6561\t0.0000\t0.5314\n",
            "0.0000\t0.0000\t0.0000\t0.0000\n",
            "0.0000\t0.8100\t0.0000\t0.6561\n",
            "0.0000\t0.0000\t0.0000\t0.0000\n",
            "0.6561\t0.0000\t0.7290\t0.5905\n",
            "0.6561\t0.8100\t0.8100\t0.0000\n",
            "0.7290\t0.9000\t0.0000\t0.7290\n",
            "0.0000\t0.0000\t0.0000\t0.0000\n",
            "0.0000\t0.0000\t0.0000\t0.0000\n",
            "0.0000\t0.8100\t0.9000\t0.7290\n",
            "0.8100\t0.9000\t1.0000\t0.8100\n",
            "0.0000\t0.0000\t0.0000\t0.0000\n",
            "\n",
            "Optimal Policy: (backend representation)\n",
            "1\t2\t1\t0\n",
            "1\t0\t1\t0\n",
            "2\t1\t1\t0\n",
            "0\t2\t2\t0\n",
            "\n",
            "Optimal Policy: (graphical representation)\n",
            "-----------------\n",
            "| ↓ | → | ↓ | ← | \n",
            "-----------------\n",
            "| ↓ | ← | ↓ | ← | \n",
            "-----------------\n",
            "| → | ↓ | ↓ | ← | \n",
            "-----------------\n",
            "| ← | → | → | ← | \n",
            "-----------------\n"
          ]
        }
      ],
      "source": [
        "env = gym.make('FrozenLake-v1', desc=None, map_name=\"4x4\", is_slippery=False, new_step_api=True)\n",
        "policy_iteration = PolicyIteration(env, discount_factor)\n",
        "policy_iteration.policy_estimation()\n",
        "\n",
        "V_s = policy_iteration.get_state_values()\n",
        "print('V(s):')\n",
        "tabulate(V_s)\n",
        "print()\n",
        "\n",
        "Q_sa = policy_iteration.get_q_values()\n",
        "print('Q(s, a):')\n",
        "for data in Q_sa: tabulate(data)\n",
        "print()\n",
        "\n",
        "PI_star = [policy_iteration.get_optimal_policy(x) for x in range(total_states)]\n",
        "print('Optimal Policy: (backend representation)')\n",
        "tabulate(PI_star, 0)\n",
        "print()\n",
        "\n",
        "print('Optimal Policy: (graphical representation)')\n",
        "visualize(PI_star)"
      ]
    },
    {
      "cell_type": "markdown",
      "metadata": {
        "id": "A3fnAFqJLpVI"
      },
      "source": [
        "<a name='1-4'></a>\n",
        "\n",
        "### Question 6:\n"
      ]
    },
    {
      "cell_type": "markdown",
      "metadata": {},
      "source": [
        "Our goal here is to find the average time consumption of the two utilized algorithms: *Value Iteration* and *Policy Iteration* methods. To do so, we run each of them for 50 episodes and capture each one's total runtime. By dividing the total runtime by number of running episodes (50), we'll get the mean runtime period of each algorithm. "
      ]
    },
    {
      "cell_type": "markdown",
      "metadata": {
        "id": "7JuoMPH_PAcv"
      },
      "source": [
        "<a name='1-4-1'></a>\n",
        "\n",
        "#### Value Iteration:\n"
      ]
    },
    {
      "cell_type": "code",
      "execution_count": 32,
      "metadata": {
        "id": "vCBnAicAPAcv"
      },
      "outputs": [
        {
          "name": "stdout",
          "output_type": "stream",
          "text": [
            "Average execution time for Value Iteration: \u001b[1;34m12.75904\u001b[0m milliseconds\n"
          ]
        }
      ],
      "source": [
        "class color:            # Customize the output's text format in print()\n",
        "    BOLD = '\\033[1;34m' # Set bold and blue text via ANSI escape sequences\n",
        "    END = '\\033[0m'     # Reset text format via ANSI escape sequences\n",
        "    \n",
        "env = gym.make('FrozenLake-v1', desc=None, map_name=\"4x4\", is_slippery=False, render_mode='ansi', new_step_api=True)\n",
        "\n",
        "TOTAL = 0\n",
        "for _ in range(50):\n",
        "    value_iteration = ValueIteration(env, discount_factor)\n",
        "    start = time.time_ns()\n",
        "    value_iteration.value_estimation()\n",
        "    end = time.time_ns()\n",
        "    TOTAL += (end - start)\n",
        "env.close()\n",
        "\n",
        "avg = TOTAL / 50 / 10**6\n",
        "print(f'Average execution time for Value Iteration: {color.BOLD}{avg}{color.END} milliseconds')"
      ]
    },
    {
      "cell_type": "markdown",
      "metadata": {
        "id": "C1BMk-BfPAcv"
      },
      "source": [
        "<a name='1-4-2'></a>\n",
        "\n",
        "#### Policy Iteration:\n"
      ]
    },
    {
      "cell_type": "code",
      "execution_count": 31,
      "metadata": {
        "id": "LnUZpvLP446n"
      },
      "outputs": [
        {
          "name": "stdout",
          "output_type": "stream",
          "text": [
            "Average execution time for Policy Iteration: \u001b[1;34m63.057256\u001b[0m milliseconds\n"
          ]
        }
      ],
      "source": [
        "env = gym.make('FrozenLake-v1', desc=None, map_name=\"4x4\", is_slippery=False, render_mode='ansi', new_step_api=True)\n",
        "\n",
        "TOTAL = 0\n",
        "for _ in range(50):\n",
        "    policy_iteration = PolicyIteration(env, discount_factor)\n",
        "    start = time.time_ns()\n",
        "    policy_iteration.policy_estimation()\n",
        "    end = time.time_ns()\n",
        "    TOTAL += (end - start)\n",
        "env.close()\n",
        "\n",
        "avg = TOTAL / 50 / 10**6\n",
        "print(f'Average execution time for Policy Iteration: {color.BOLD}{avg}{color.END} milliseconds')"
      ]
    },
    {
      "cell_type": "markdown",
      "metadata": {},
      "source": [
        "#### Comparison of Value Iteration and Policy Iteration\n",
        "As seen in the previous question, both policy iteration and value iteration algorithms converge to the same optimal policy, which maximizes rewards in the environment.\n",
        "\n",
        "Value iteration algorithm only requires policy evaluation in each iteration, as it updates the policy directly from the values. On the other hand, policy iteration algorithm needs to perform both policy evaluation and policy improvement in each iteration. This difference in the number of steps required per iteration leads to a difference in the overall convergence speed of the two algorithms. Value iteration algorithm generally converges faster than policy iteration algorithm. This conclusion is also supported in practice from the results obtained in this question. However, it is important to note that the convergence speed of both algorithms can be affected by a number of factors, such as the size of the state space, the number of actions, and the discount factor. In some rare cases, policy iteration algorithm may converge faster than value iteration algorithm.\n"
      ]
    },
    {
      "cell_type": "markdown",
      "metadata": {
        "id": "hLtPLm-ELpG9"
      },
      "source": [
        "<a name='2'></a>\n",
        "\n",
        "## Part 2: Q-Learning Algorithm\n"
      ]
    },
    {
      "cell_type": "code",
      "execution_count": 16,
      "metadata": {},
      "outputs": [
        {
          "name": "stdout",
          "output_type": "stream",
          "text": [
            "152\n",
            "you can see the environment in each step by render command\n",
            "1 2 3 0\n",
            "500\n",
            "6\n"
          ]
        }
      ],
      "source": [
        "# Defining the hyperparameters of the problem\n",
        "REPS = 20\n",
        "EPISODES = 2000\n",
        "EPSILON = 0.1\n",
        "LEARNING_RATE = 0.1\n",
        "DISCOUNT = 0.9\n",
        "STUDENT_NUM = 269  # 810699269\n",
        "ACTION_SPACE = {0: \"DOWN\", 1: \"UP\", 2: \"RIGHT\", 3: \"LEFT\", 4: \"PICKUP\", 5: \"DROPOFF\"}\n",
        "ACTION_SYMBOLS = [\"↓\", \"↑\", \"→\", \"←\", \"P\", \"D\"]\n",
        "\n",
        "# Introducing the environment of the problem\n",
        "env = gym.make(\"Taxi-v3\", new_step_api=True)\n",
        "# env.seed(seed=STUDENT_NUM)    [This line is replaced with the following line to avoid WARNINGs]\n",
        "Initial_State = env.reset(seed=STUDENT_NUM)\n",
        "print(Initial_State)\n",
        "\n",
        "# Getting familiar with the environment\n",
        "print(\"you can see the environment in each step by render command\")\n",
        "# env.render()\n",
        "taxi_row, taxi_col, pass_idx, dest_idx = env.decode(Initial_State)\n",
        "print(taxi_row, taxi_col, pass_idx, dest_idx)\n",
        "\n",
        "# Total no. of states\n",
        "print(env.observation_space.n)\n",
        "\n",
        "# Total no. of actions\n",
        "print(env.action_space.n)"
      ]
    },
    {
      "cell_type": "markdown",
      "metadata": {
        "id": "S7yRce6rSlhY"
      },
      "source": [
        "<a name='2-0'></a>\n",
        "\n",
        "### Question 7:\n"
      ]
    },
    {
      "cell_type": "markdown",
      "metadata": {
        "id": "qlpNdHs8SwAk"
      },
      "source": [
        "Q-learning is a reinforcement learning algorithm that finds the optimal policy for an agent. It is model-free, value-based, and off-policy, meaning that it does not require a model of the environment. So, it estimates the value of each state-action pair, and learns from a policy different from the one being executed. The algorithm updates the Q-values, which represent the expected future rewards for taking a particular action in a special state, to maximize the total rewards obtained from the environment.\n",
        "\n",
        "The Q-learning algorithm follows these steps:\n",
        "1. **Initialize the Q-table:** The Q-table is a matrix that stores the Q-values for each state-action pair. Initially, all Q-values are set to zero or random values.\n",
        "2. **Observation:** The agent observes the current state of the environment.\n",
        "3. **Action selection:** The agent selects an action to perform based on the current state. This can be done using an exploration-exploitation trade-off strategy, where the agent explores new actions with a certain probability and exploits its current knowledge with the remaining probability.\n",
        "4. **Perform the action:** The agent performs the selected action in the environment.\n",
        "5. **Receive reward and new state:** The agent receives a reward from the environment based on the action taken and transitions to a new state.\n",
        "6. **Update the Q-value:** The Q-value for the previous state-action pair is updated using the following formula:\n",
        "\n",
        "$$ Q(S_t, A_t) \\leftarrow Q(S_t, A_t) + \\alpha [R_{t+1} + \\gamma \\max_a Q(S_{t+1}, a) - Q(S_t, A_t)] $$\n",
        "\n",
        "where:\n",
        "- $Q(s, a)$ is the Q-value for state $s$ and action $a$,\n",
        "- $\\alpha$ is the learning rate, \n",
        "- $r$ is the reward received, \n",
        "- $\\gamma$ is the discount factor, \n",
        "- $s'$ is the new state, and \n",
        "- $\\max(Q(s', a'))$ is the maximum Q-value for the new state.\n",
        "\n",
        "7. **Iteration:** Repeat steps 2-6 until the agent reaches a terminal state or a predefined number of iterations.\n",
        "\n",
        "The algorithm learns the optimal policy by iteratively updating the Q-values, which represent the expected future rewards for taking a particular action in a special state. The optimal policy is obtained by selecting the action with the highest Q-value for each state.\n",
        "\n"
      ]
    },
    {
      "cell_type": "markdown",
      "metadata": {
        "id": "oZJAP4nMLpiZ"
      },
      "source": [
        "<a name='2-1'></a>\n",
        "\n",
        "### Question 8:\n"
      ]
    },
    {
      "cell_type": "code",
      "execution_count": 17,
      "metadata": {},
      "outputs": [],
      "source": [
        "class QLearningAgent:\n",
        "    def __init__(self, env, epsilon, learning_rate, discount_factor, seed, epsilon_decay, learning_rate_decay):\n",
        "        self.env = env\n",
        "        self.epsilon = epsilon\n",
        "        self.learning_rate = learning_rate\n",
        "        # self.olr = learning_rate\n",
        "        self.discount_factor = discount_factor\n",
        "        self.q_table = np.zeros((env.observation_space.n, env.action_space.n))\n",
        "        self.seed = seed\n",
        "        self.epsilon_decay = epsilon_decay\n",
        "        self.learning_rate_decay = learning_rate_decay\n",
        "\n",
        "    def choose_action(self, state):\n",
        "        prob = np.random.rand()\n",
        "        if prob < self.epsilon:\n",
        "            action = self.env.action_space.sample()\n",
        "        else:\n",
        "            action = self.get_optimal_policy(state)\n",
        "\n",
        "        return action\n",
        "\n",
        "    def update_q_table(self, state, action, nextState, reward):\n",
        "        Q_old = self.q_table[state][action]\n",
        "        Q_new = Q_old + self.learning_rate * \\\n",
        "            (reward + self.discount_factor *\n",
        "             np.max(self.q_table[int(nextState), :]) - Q_old)\n",
        "\n",
        "        self.q_table[state][action] = Q_new\n",
        "\n",
        "    def decay_epsilon(self, episode):\n",
        "        self.epsilon = np.exp(-self.epsilon_decay*(episode+1))\n",
        "\n",
        "    def decrease_learning_rate(self, episode):\n",
        "\n",
        "        self.learning_rate = 0.99 * \\\n",
        "            np.exp(-self.learning_rate_decay * (episode + 1))\n",
        "\n",
        "    def take_action(self, action):\n",
        "\n",
        "        next_state, reward, done, _, _ = self.env.step(action)\n",
        "\n",
        "        return next_state, reward, done\n",
        "\n",
        "    def get_optimal_policy(self, state):\n",
        "\n",
        "        return np.argmax(self.q_table[state])\n",
        "\n",
        "    def get_q_values(self):\n",
        "\n",
        "        return self.q_table\n",
        "\n",
        "    def reset(self):\n",
        "\n",
        "        # self.learning_rate = self.olr\n",
        "\n",
        "        return self.env.reset(seed=self.seed)"
      ]
    },
    {
      "cell_type": "markdown",
      "metadata": {},
      "source": [
        "<style>\n",
        "    .equation{\n",
        "        color:black; \n",
        "        display:flex; \n",
        "        align-items:center; \n",
        "        justify-content:center; \n",
        "        background-color:SeaShell; \n",
        "        border-radius:10px; \n",
        "        height:65px; \n",
        "        font-size:20px;\n",
        "    }\n",
        "</style>\n",
        "\n",
        "In the `decay_epsilon` function of this class, the value of epsilon is decreased. In the first episode, the value of epsilon is equal to 1. In subsequent episodes, the value of epsilon is equal to the following relationship:\n",
        "\n",
        "In this class, the `decay_epsilon` function is used when the value of epsilon is needed to be decreased over time. The value of epsilon is initially set to 1 in the first episode, and then updated using the following formula in subsequent episodes:\n",
        "<div class=\"equation\">  \n",
        "<p>\n",
        "\n",
        "$ Epsilon = e^{- (\\text{epsilon rate decay} \\times \\text{episode number})} $\n",
        "\n",
        "</p>\n",
        "</div>\n",
        "\n",
        "Where the value of _epsilon decay rate_ would be set to 0.003 as the `epsilon_decay` argument of the class.\n",
        "\n",
        "Also, In the `decrease_learning_rate` function of this class, the learning rate is decreased over time. The learning rate is initially set to 0.99 in the first episode, and then updated using the following formula in subsequent episodes:\n",
        "\n",
        "<div class=\"equation\">  \n",
        "<p>\n",
        "\n",
        "$ Learning Rate = 0.99 \\times e^{- (\\text{learning rate decay} \\times \\text{episode number})} $\n",
        "\n",
        "</p>\n",
        "</div>\n",
        "\n",
        "Where the value of _learning decay rate_ would be set to 0.0023 as the `learning_rate_decay` argument of the class.\n",
        "\n",
        "In the next question, a function is developed to find the reward obtained from executing the optimal policy.\n"
      ]
    },
    {
      "cell_type": "markdown",
      "metadata": {
        "id": "c5HFAMk-Lpvs"
      },
      "source": [
        "<a name='2-2'></a>\n",
        "\n",
        "### Question 9:\n"
      ]
    },
    {
      "cell_type": "markdown",
      "metadata": {},
      "source": [
        "The following function repeats the Q-learning algorithm 20 times and runs it for 2000 episodes, depending on the learning rate, and returns the rewards received and the reward of the optimal policy in the end."
      ]
    },
    {
      "cell_type": "code",
      "execution_count": 18,
      "metadata": {},
      "outputs": [],
      "source": [
        "def RunQLearningAgent(is_decay_epsilon: bool, is_decay_learning_rate: bool):\n",
        "    cumulative_reward = np.zeros((REPS, EPISODES))\n",
        "    optimal_cumulative_reward = -np.inf\n",
        "    optimal_agent = None\n",
        "\n",
        "    if is_decay_learning_rate:\n",
        "        learning_rate = 0.99\n",
        "    else:\n",
        "        learning_rate = LEARNING_RATE\n",
        "\n",
        "    for rep in range(REPS):\n",
        "        agent = QLearningAgent(env, 1, learning_rate,\n",
        "                               DISCOUNT, STUDENT_NUM, 0.003, 0.0023)\n",
        "        # QLearningAgent(env, epsilon, learning_rate, discount_factor, seed, epsilon_decay, learning_rate_decay)\n",
        "\n",
        "        for episode in range(EPISODES):\n",
        "            Initial_state = agent.reset()\n",
        "            rewards = []\n",
        "\n",
        "            while True:\n",
        "                # action = np.random.choice(list(ACTION_SPACE.keys()))\n",
        "                # next_state, rew, done, _ = agent.step(bestAction)\n",
        "                action = agent.choose_action(Initial_state)\n",
        "                next_state, rew, done = agent.take_action(action)\n",
        "                agent.update_q_table(Initial_state, action, next_state, rew)\n",
        "                Initial_state = next_state\n",
        "                rewards.append(rew)\n",
        "\n",
        "                if done:\n",
        "                    break\n",
        "\n",
        "            cumulative_reward[rep][episode] = np.sum(rewards)\n",
        "            if is_decay_epsilon:\n",
        "                agent.decay_epsilon(episode+1)\n",
        "            if is_decay_learning_rate:\n",
        "                agent.decrease_learning_rate(episode+1)\n",
        "\n",
        "        Initial_state = agent.reset()\n",
        "        rewards = []\n",
        "        while True:\n",
        "            action = agent.get_optimal_policy(Initial_state)\n",
        "            next_state, rew, done = agent.take_action(action)\n",
        "            Initial_state = next_state\n",
        "            rewards.append(rew)\n",
        "\n",
        "            if done:\n",
        "                break\n",
        "        ans = np.sum(rewards)\n",
        "\n",
        "        optimal_cumulative_reward = max(optimal_cumulative_reward, ans)\n",
        "        optimal_agent = agent\n",
        "\n",
        "    return cumulative_reward, optimal_cumulative_reward, optimal_agent"
      ]
    },
    {
      "cell_type": "code",
      "execution_count": 19,
      "metadata": {},
      "outputs": [
        {
          "name": "stderr",
          "output_type": "stream",
          "text": [
            "f:\\Python\\env\\venv\\Lib\\site-packages\\gym\\utils\\passive_env_checker.py:241: DeprecationWarning: `np.bool8` is a deprecated alias for `np.bool_`.  (Deprecated NumPy 1.24)\n",
            "  if not isinstance(terminated, (bool, np.bool8)):\n"
          ]
        },
        {
          "data": {
            "image/png": "[encoded data removed]",
            "text/plain": [
              "<Figure size 1400x800 with 1 Axes>"
            ]
          },
          "metadata": {},
          "output_type": "display_data"
        }
      ],
      "source": [
        "# Attaining the optimal policies\n",
        "total_reward_fixed_learning, optimal_policy_fixed, optimal_agent_fixed = RunQLearningAgent(is_decay_epsilon=True, is_decay_learning_rate=False)\n",
        "total_reward_decreasing_learning, optimal_policy_dynamic, optimal_agent_dynamic = RunQLearningAgent(is_decay_epsilon=True, is_decay_learning_rate=True)\n",
        "\n",
        "# Visualizing the results\n",
        "plt.figure(figsize=(14,8))\n",
        "plt.title('Q-Learning Algorithm')\n",
        "plt.plot(np.convolve(np.mean(total_reward_fixed_learning, axis=0), np.ones(40)/40, mode='valid'), label=r'$\\alpha=0.1$')\n",
        "plt.plot(np.convolve(np.mean(total_reward_decreasing_learning, axis=0), np.ones(40)/40, mode='valid'), label=r'$\\alpha=decayed$')\n",
        "plt.xlabel('Episode')\n",
        "plt.ylabel('Total Reward')\n",
        "plt.grid()\n",
        "plt.legend()\n",
        "plt.show()"
      ]
    },
    {
      "cell_type": "markdown",
      "metadata": {},
      "source": [
        "#### Comparison of the Results\n",
        "Using a plot, the comparison of the results from the algorithm execution with two learning rate modes, i.e. fixed and decreasing, gets easier. \n",
        "It can be seen that both cases of the algorithm eventually converge to the optimal policy, but the case where the learning rate is decreasing has a faster convergence speed and converges to the optimal policy sooner. It's crucial to note that the difference, in this problem, is **not** dramatically huge. That might be due to the simplicity and smallness of the environment we're dealing with. Additionally, the case where the learning rate is decreasing has less regret than the case where the learning rate is constant, and the amount of reward received in each episode is higher. The superiority of the decreasing learning rate case is due to the fact that the agent is trained with a high learning rate at the beginning and gradually decreases the learning rate. This allows the agent to learn a lot from new data at the beginning and rely more on its own experience as its experience increases. As a result, the convergence speed increases and the regret decreases. However, in the case where the learning rate is equal to a small and constant value, the agent's training is slow, resulting in a lower convergence speed and higher regret.\n",
        "\n"
      ]
    },
    {
      "cell_type": "markdown",
      "metadata": {
        "id": "BVcMKEGDQWdU"
      },
      "source": [
        "<a name='2-3'></a>\n",
        "\n",
        "### Question 10:\n"
      ]
    },
    {
      "cell_type": "markdown",
      "metadata": {},
      "source": [
        "In this question, the graphical render of optimal policy is shown using *gym* library's built-in graphical functions for this problem. All we need to do is to pass the **optimal policy** we obtained from previous question to the `env.step()` method."
      ]
    },
    {
      "cell_type": "markdown",
      "metadata": {},
      "source": [
        "#### Agent with Fixed Learning Rate"
      ]
    },
    {
      "cell_type": "code",
      "execution_count": 29,
      "metadata": {
        "id": "FlHPV0kqQWdU"
      },
      "outputs": [],
      "source": [
        "env = gym.make('Taxi-v3', render_mode='human', new_step_api=True)\n",
        "pos = env.reset(seed=STUDENT_NUM)\n",
        "while (True):\n",
        "    (pos, _, terminated, _, _) = env.step(\n",
        "        optimal_agent_fixed.get_optimal_policy(pos))\n",
        "    time.sleep(0.5)\n",
        "    if (terminated):\n",
        "        break\n",
        "env.close()"
      ]
    },
    {
      "cell_type": "markdown",
      "metadata": {},
      "source": [
        "#### Agent with Decreasing Learning Rate"
      ]
    },
    {
      "cell_type": "code",
      "execution_count": 30,
      "metadata": {},
      "outputs": [],
      "source": [
        "env = gym.make('Taxi-v3', render_mode='human', new_step_api=True)\n",
        "pos = env.reset(seed=STUDENT_NUM)\n",
        "while (True):\n",
        "    (pos, _, terminated, _, _) = env.step(\n",
        "        optimal_agent_dynamic.get_optimal_policy(pos))\n",
        "    time.sleep(0.5)\n",
        "    if (terminated):\n",
        "        break\n",
        "env.close()"
      ]
    },
    {
      "cell_type": "markdown",
      "metadata": {},
      "source": [
        "Now that we've successfully witnessed the graphical result, it's time to examine each mode's average runtime, so we can have a better comparison between them on time-consumption territory as well. In order to avoid repeated code, here's a mutual function to measure the average time consumption of each algorithm for 50 episodes of execution:"
      ]
    },
    {
      "cell_type": "code",
      "execution_count": 23,
      "metadata": {},
      "outputs": [],
      "source": [
        "class color:            # Customize the output's text format in print()\n",
        "    BOLD = '\\033[1;34m' # Set bold and blue text via ANSI escape sequences\n",
        "    END = '\\033[0m'     # Reset text format via ANSI escape sequences\n",
        "    UNDER = '\\033[4m'   # Set underlined text via ANSI escape sequences\n",
        "\n",
        "\n",
        "def timer(agent, mode:str):\n",
        "    start = time.time_ns()\n",
        "    for _ in range(50):\n",
        "        state = agent.reset()\n",
        "        rewards = []\n",
        "        env.render()\n",
        "\n",
        "        while True:\n",
        "            action = agent.get_optimal_policy(state)\n",
        "            next_state, reward, done = agent.take_action(action)\n",
        "            state = next_state\n",
        "            rewards.append(reward)\n",
        "            env.render()\n",
        "\n",
        "            if done:\n",
        "                break\n",
        "    end = time.time_ns()\n",
        "    avg = (end - start) / 50 / 10**6\n",
        "\n",
        "    print(f'Average execution time for {color.UNDER}agent with {mode}{color.END}: {color.BOLD}{avg}{color.END} milliseconds')"
      ]
    },
    {
      "cell_type": "markdown",
      "metadata": {},
      "source": [
        "#### Agent with Fixed Learning Rate"
      ]
    },
    {
      "cell_type": "code",
      "execution_count": 25,
      "metadata": {},
      "outputs": [
        {
          "name": "stdout",
          "output_type": "stream",
          "text": [
            "Average execution time for \u001b[4magent with fixed learning rate\u001b[0m: \u001b[1;34m1.540214\u001b[0m milliseconds\n"
          ]
        }
      ],
      "source": [
        "env = gym.make('Taxi-v3', render_mode='ansi')\n",
        "env.reset()\n",
        "timer(optimal_agent_fixed, 'fixed learning rate')\n",
        "env.close()"
      ]
    },
    {
      "cell_type": "markdown",
      "metadata": {},
      "source": [
        "#### Agent with Decreasing Learning Rate"
      ]
    },
    {
      "cell_type": "code",
      "execution_count": 26,
      "metadata": {},
      "outputs": [
        {
          "name": "stdout",
          "output_type": "stream",
          "text": [
            "Average execution time for \u001b[4magent with decreasing learning rate\u001b[0m: \u001b[1;34m1.539988\u001b[0m milliseconds\n"
          ]
        }
      ],
      "source": [
        "env = gym.make('Taxi-v3', render_mode='ansi')\n",
        "env.reset()\n",
        "timer(optimal_agent_dynamic, 'decreasing learning rate')\n",
        "env.close()"
      ]
    },
    {
      "cell_type": "markdown",
      "metadata": {},
      "source": [
        "As a final section of [Part 2: Q-Learning Algorithm](#part-2-q-learning-algorithm), we intend to manually visualize the map and the path our agent travels in it with a rough simple string map in terminal. To do so, we need to get the result for **optimal_policy** our agent has found in previous questions. By saving this *optimal_policy* in a variable named *path*, we'll see that it consists of a chain of 13 states our agent travels. Each state is represented by an integer number that will be shown as the output of the following code:"
      ]
    },
    {
      "cell_type": "code",
      "execution_count": 27,
      "metadata": {},
      "outputs": [],
      "source": [
        "def raw_map():\n",
        "    # Raw map of my problem\n",
        "    map = \\\n",
        "        [['-','-','-','-','-','-','-','-','-','-','-'],\n",
        "        ['|','H',':',':','|',':',':',':',':','G','|'],\n",
        "        ['|',':',':',':','|',':',':',':',':',':','|'],\n",
        "        ['|',':',':',':',':',':',':',':',':',':','|'],\n",
        "        ['|',':','|',':',':',':','|',':',':',':','|'],\n",
        "        ['|','Y','|',':',':',':','|','B',':',':','|'],\n",
        "        ['-','-','-','-','-','-','-','-','-','-','-'],\n",
        "        ]\n",
        "    print('Raw Map without agent\\'s presence:')\n",
        "    # print(np.array(map), '\\n')\n",
        "\n",
        "    string = ''\n",
        "    for i in map:\n",
        "        for j in i:\n",
        "            if j == ':':\n",
        "                j = ' '\n",
        "            string += j + '  '\n",
        "        string += '\\n'\n",
        "    print(string)\n",
        "    return map\n",
        "\n",
        "\n",
        "def visualizer(agent, map):\n",
        "    state = agent.reset()\n",
        "    path = []\n",
        "\n",
        "    while True:\n",
        "        path.append(state)\n",
        "        action = agent.get_optimal_policy(state)\n",
        "        next_state, reward, done = agent.take_action(action)\n",
        "        state = next_state\n",
        "        if done:\n",
        "            break\n",
        "    print(f'The optimal_policy is a chain of length 13, consisting of these states: \\n{path}')\n",
        "\n",
        "    for coord in path:\n",
        "        coord = str(coord)\n",
        "        if len(coord) == 2:\n",
        "            coord = '0' + coord\n",
        "        x = int(coord[1])\n",
        "        y = int(coord[0]) + 1\n",
        "        map[y][x] = '0'\n",
        "    print('Map with the agent\\'s optimal path:')\n",
        "    # print(np.array(map), '\\n')\n",
        "\n",
        "    string = ''\n",
        "    for i in map:\n",
        "        for j in i:\n",
        "            if j == ':':\n",
        "                j = ' '\n",
        "            elif j == '0':\n",
        "                j = '\\033[1;31m' + '0' + '\\033[0m'\n",
        "            string += j + '  '\n",
        "        string += '\\n'\n",
        "    print(string)\n"
      ]
    },
    {
      "cell_type": "code",
      "execution_count": 28,
      "metadata": {},
      "outputs": [
        {
          "name": "stdout",
          "output_type": "stream",
          "text": [
            "Raw Map without agent's presence:\n",
            "-  -  -  -  -  -  -  -  -  -  -  \n",
            "|  H        |              G  |  \n",
            "|           |                 |  \n",
            "|                             |  \n",
            "|     |           |           |  \n",
            "|  Y  |           |  B        |  \n",
            "-  -  -  -  -  -  -  -  -  -  -  \n",
            "\n",
            "--- \u001b[1;34mAgent with Fixed Learning Rate\u001b[0m ---\n",
            "The optimal_policy is a chain of length 13, consisting of these states: \n",
            "[152, 252, 272, 372, 472, 476, 376, 276, 256, 236, 136, 116, 16]\n",
            "Map with the agent's optimal path:\n",
            "-  -  -  -  -  -  -  -  -  -  -  \n",
            "|  \u001b[1;31m0\u001b[0m        |              G  |  \n",
            "|  \u001b[1;31m0\u001b[0m     \u001b[1;31m0\u001b[0m  |  \u001b[1;31m0\u001b[0m              |  \n",
            "|        \u001b[1;31m0\u001b[0m     \u001b[1;31m0\u001b[0m     \u001b[1;31m0\u001b[0m        |  \n",
            "|     |           |  \u001b[1;31m0\u001b[0m        |  \n",
            "|  Y  |           |  \u001b[1;31m0\u001b[0m        |  \n",
            "-  -  -  -  -  -  -  -  -  -  -  \n",
            "\n",
            "--- \u001b[1;34mAgent with Decreasing Learning Rate\u001b[0m ---\n",
            "The optimal_policy is a chain of length 13, consisting of these states: \n",
            "[152, 252, 272, 372, 472, 476, 376, 276, 256, 236, 136, 36, 16]\n",
            "Map with the agent's optimal path:\n",
            "-  -  -  -  -  -  -  -  -  -  -  \n",
            "|  \u001b[1;31m0\u001b[0m     \u001b[1;31m0\u001b[0m  |              G  |  \n",
            "|  \u001b[1;31m0\u001b[0m     \u001b[1;31m0\u001b[0m  |  \u001b[1;31m0\u001b[0m              |  \n",
            "|        \u001b[1;31m0\u001b[0m     \u001b[1;31m0\u001b[0m     \u001b[1;31m0\u001b[0m        |  \n",
            "|     |           |  \u001b[1;31m0\u001b[0m        |  \n",
            "|  Y  |           |  \u001b[1;31m0\u001b[0m        |  \n",
            "-  -  -  -  -  -  -  -  -  -  -  \n",
            "\n"
          ]
        }
      ],
      "source": [
        "RAW = raw_map()\n",
        "print(f'--- {color.BOLD}Agent with Fixed Learning Rate{color.END} ---')\n",
        "visualizer(optimal_agent_fixed, RAW)\n",
        "\n",
        "print(f'--- {color.BOLD}Agent with Decreasing Learning Rate{color.END} ---')\n",
        "visualizer(optimal_agent_dynamic, RAW)"
      ]
    },
    {
      "cell_type": "markdown",
      "metadata": {},
      "source": [
        "It can be seen that in this problem, the number of steps the agent must travel doesn't differ based on the two discussed modes, i.e. *fixed learning rate* or *decreasing learning rate*. However, the path itself does differ, and the difference is shown in the maps above. The path which is printed with red zeroes, is obtained from decoding the states. The first and second digits of each state represent the **y** and **x** coordinates of the agent at that state, respectively. The third digit also shows if the passenger is on-board or not, which we didn't need in the map representations above."
      ]
    },
    {
      "cell_type": "markdown",
      "metadata": {},
      "source": [
        "<div style=\"background-color:azure; border-radius:15px; height:150px; display: flex; align-items: center; \">\n",
        "\n",
        "<h4 style=\"color:grey; margin-left:8%; vertical-align:middle; \">by: <br> Mohammad Montazeri\n",
        "<br>\n",
        "810699269 </h4>\n",
        "</div>\n"
      ]
    }
  ],
  "metadata": {
    "colab": {
      "provenance": [],
      "toc_visible": true
    },
    "kernelspec": {
      "display_name": "Python 3",
      "language": "python",
      "name": "python3"
    },
    "language_info": {
      "codemirror_mode": {
        "name": "ipython",
        "version": 3
      },
      "file_extension": ".py",
      "mimetype": "text/x-python",
      "name": "python",
      "nbconvert_exporter": "python",
      "pygments_lexer": "ipython3",
      "version": "3.11.1"
    }
  },
  "nbformat": 4,
  "nbformat_minor": 0
}
